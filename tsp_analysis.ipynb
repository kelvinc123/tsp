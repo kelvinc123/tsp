{
 "cells": [
  {
   "cell_type": "code",
   "execution_count": 1,
   "metadata": {},
   "outputs": [],
   "source": [
    "# Imports\n",
    "from pyomo.environ import *\n",
    "from pyomo.opt import *\n",
    "from pyomo.core import * \n",
    "\n",
    "import numpy as np\n",
    "import pandas as pd\n",
    "import matplotlib.pyplot as plt\n",
    "import seaborn as sns\n",
    "\n",
    "import warnings\n",
    "warnings.simplefilter(\"ignore\")"
   ]
  },
  {
   "cell_type": "code",
   "execution_count": 2,
   "metadata": {},
   "outputs": [],
   "source": [
    "# set the parameter\n",
    "n = 10  # number of locations\n",
    "\n",
    "min_x = 0\n",
    "min_y = 0\n",
    "max_x = 100\n",
    "max_y = 100"
   ]
  },
  {
   "cell_type": "code",
   "execution_count": 3,
   "metadata": {},
   "outputs": [],
   "source": [
    "# Euclidian distance function given two vectors\n",
    "def euc_dist(v1, v2):\n",
    "    return round(np.linalg.norm(v1 - v2), 7)\n",
    "\n",
    "# Generate dictionary of distances for a given array (starting index from 1)\n",
    "def generate_dist_dict(arr):\n",
    "    dist_dict = {}\n",
    "    for i in range(n):\n",
    "        for j in range(n):\n",
    "            dist_dict[(i+1, j+1)] = euc_dist(arr[i], arr[j])\n",
    "    return dist_dict\n",
    "\n",
    "# generate n locations and calculate distances between them\n",
    "locations = np.random.randint([min_x, min_y], [max_x, max_y], (n, 2))\n",
    "distance = generate_dist_dict(locations)"
   ]
  },
  {
   "cell_type": "code",
   "execution_count": 4,
   "metadata": {},
   "outputs": [],
   "source": [
    "# Objective rule: Minimize total distance\n",
    "def objective_rule(model):\n",
    "    \n",
    "    return sum(model.SELECT[i, j] * model.distance[i, j] for i in model.i for j in model.i)"
   ]
  },
  {
   "cell_type": "code",
   "execution_count": 5,
   "metadata": {},
   "outputs": [],
   "source": [
    "def one_successor_rule(model, i):\n",
    "    \n",
    "    # Must have an exact one successor\n",
    "    return sum(model.SELECT[i, j] for j in model.i if j != i) == 1\n",
    "\n",
    "def one_predecessor_rule(model, j):\n",
    "    \n",
    "    # Must have an exact one predecessor\n",
    "    return sum(model.SELECT[i, j] for i in model.i if i != j) == 1\n",
    "\n",
    "def subset_rule(model, subset_index):\n",
    "    subset = subset_constraints[subset_index]\n",
    "    return sum(model.SELECT[i, j] for i in subset for j in subset if i != j) <= (len(subset) - 1)"
   ]
  },
  {
   "cell_type": "code",
   "execution_count": 6,
   "metadata": {},
   "outputs": [],
   "source": [
    "def pyomo_create_model():\n",
    "    # Create concrete model\n",
    "    model = ConcreteModel()\n",
    "\n",
    "    # Define set of index\n",
    "    model.i = Set(initialize=[i for i in range(1, n+1)], ordered = True)\n",
    "    model.subset_index = Set(ordered = True)\n",
    "\n",
    "    # Define decision variable (n x n)\n",
    "    model.SELECT = Var((model.i * model.i), domain=Binary, initialize = 0)\n",
    "\n",
    "    # Define parameters\n",
    "    model.distance = Param((model.i * model.i), initialize = distance)\n",
    "\n",
    "    # Objective function\n",
    "    model.objective = Objective(rule = objective_rule, sense = minimize)\n",
    "\n",
    "    # Constraints\n",
    "    model.successorConstraint = Constraint(model.i, rule=one_successor_rule)\n",
    "    model.predecessorConstraint = Constraint(model.i, rule=one_predecessor_rule)\n",
    "    model.subsetConstraint = Constraint(model.subset_index, rule=subset_rule)\n",
    "    \n",
    "    return model"
   ]
  },
  {
   "cell_type": "code",
   "execution_count": 7,
   "metadata": {},
   "outputs": [],
   "source": [
    "def get_list_cycle(model):\n",
    "    '''\n",
    "    Function to get all cycles in our model\n",
    "    '''\n",
    "    # Initialize necessary variables\n",
    "    visited = []\n",
    "    cycle_list = []\n",
    "    \n",
    "    while len(visited) < n:\n",
    "        \n",
    "        # find which city that hasn't been visited\n",
    "        idx = [i for i in model.i.ordered_data() if i not in visited][0]\n",
    "        \n",
    "        cycle = get_cycle_starting_from_idx(model, idx) # function defined below\n",
    "        \n",
    "        # add the subset to cycle_list\n",
    "        cycle_list.append(cycle)\n",
    "        \n",
    "        # add each visited cities to visited array\n",
    "        visited += cycle\n",
    "        \n",
    "    return cycle_list"
   ]
  },
  {
   "cell_type": "code",
   "execution_count": 8,
   "metadata": {},
   "outputs": [],
   "source": [
    "def get_cycle_starting_from_idx(model, idx):\n",
    "    \n",
    "    '''\n",
    "    Function to get cycle from a given city\n",
    "    '''\n",
    "    subset = set()\n",
    "    \n",
    "    # starting city\n",
    "    subset.add(idx)\n",
    "    i = idx\n",
    "    \n",
    "    # find where i goes to\n",
    "    for j in model.i.ordered_data():\n",
    "        if model.SELECT[i, j].value == 1:\n",
    "            subset.add(j)\n",
    "            break\n",
    "\n",
    "    # While we're not back to the starting city\n",
    "    while j != idx:\n",
    "        \n",
    "        # Go to the next city and add it to the cycle\n",
    "        i = j\n",
    "        for j in model.i.ordered_data():\n",
    "            if model.SELECT[i, j].value == 1:\n",
    "                subset.add(j)\n",
    "                break\n",
    "    return list(subset)  # list of visited cities"
   ]
  },
  {
   "cell_type": "code",
   "execution_count": 9,
   "metadata": {},
   "outputs": [],
   "source": [
    "def results_to_df(model, n):\n",
    "    '''\n",
    "    Function to convert optimal solution to data frame\n",
    "    '''\n",
    "    df = np.zeros((n, n))\n",
    "    for i in model.i.ordered_data():\n",
    "        for j in model.i.ordered_data():\n",
    "            df[i-1, j-1] = model.SELECT[i, j].value\n",
    "    df = pd.DataFrame(df).astype('int32')\n",
    "    df.columns = model.i.ordered_data()\n",
    "    df.index = model.i.ordered_data()\n",
    "    return df"
   ]
  },
  {
   "cell_type": "code",
   "execution_count": 10,
   "metadata": {},
   "outputs": [
    {
     "name": "stdout",
     "output_type": "stream",
     "text": [
      "Solving model at iteration 2... subset length: 5\r"
     ]
    },
    {
     "data": {
      "text/plain": [
       "<Figure size 720x504 with 0 Axes>"
      ]
     },
     "metadata": {},
     "output_type": "display_data"
    },
    {
     "data": {
      "text/plain": [
       "<Figure size 720x504 with 0 Axes>"
      ]
     },
     "metadata": {},
     "output_type": "display_data"
    }
   ],
   "source": [
    "# Create model\n",
    "model = pyomo_create_model()\n",
    "\n",
    "# Initialize subset constraints\n",
    "subset_constraints = []\n",
    "\n",
    "# Initialize solver\n",
    "opt = SolverFactory(\"glpk\")\n",
    "\n",
    "# Solve the model\n",
    "iteration = 1\n",
    "print(f\"Solving model at iteration {iteration}...\", end=\"\\r\")\n",
    "results = opt.solve(model)\n",
    "\n",
    "# Get the cycle that includes 1\n",
    "cycle = get_list_cycle(model)\n",
    "\n",
    "locations_df = pd.DataFrame(locations, columns=[\"x\", \"y\"])\n",
    "\n",
    "fig, ax = plt.subplots(1, 1, figsize = (10, 7))\n",
    "ax = sns.scatterplot(locations_df[\"x\"], locations_df[\"y\"], s = 100)\n",
    "\n",
    "# add arcs\n",
    "for i in model.i:\n",
    "    for j in model.i:\n",
    "        if model.SELECT[i, j].value == 1:\n",
    "            x_line = [locations_df.iloc[i-1,0], locations_df.iloc[j-1,0]]\n",
    "            y_line = [locations_df.iloc[i-1,1], locations_df.iloc[j-1,1]]\n",
    "            ax.plot(x_line, y_line, color = \"red\", linewidth=2)\n",
    "fig.savefig(f\"iteration_{iteration}.jpg\", dpi=100)\n",
    "fig.clear()\n",
    "\n",
    "# Subtour elimination if necessary\n",
    "while len(cycle) != 1:\n",
    "    \n",
    "    # Increment the iteration number\n",
    "    iteration += 1\n",
    "    \n",
    "    # Add the subset to the constraints and redefine constraint\n",
    "    subset_constraints += cycle\n",
    "    for i in cycle:\n",
    "        if model.subset_index.ordered_data().count(0) == 0:\n",
    "            model.subset_index.add(0)\n",
    "        else:\n",
    "            model.subset_index.add(model.subset_index.ordered_data()[-1] + 1)\n",
    "    model.subsetConstraint.clear()\n",
    "    model.subsetConstraint._constructed = False\n",
    "    model.subsetConstraint.construct()\n",
    "    \n",
    "    # Re solve the model\n",
    "    print(f\"Solving model at iteration {iteration}... subset length: {len(subset_constraints)}\", end=\"\\r\")\n",
    "    results = opt.solve(model)\n",
    "\n",
    "    fig, ax = plt.subplots(1, 1, figsize = (10, 7))\n",
    "    ax = sns.scatterplot(locations_df[\"x\"], locations_df[\"y\"], s = 100)\n",
    "\n",
    "    # add arcs\n",
    "    for i in model.i:\n",
    "        for j in model.i:\n",
    "            if model.SELECT[i, j].value == 1:\n",
    "                x_line = [locations_df.iloc[i-1,0], locations_df.iloc[j-1,0]]\n",
    "                y_line = [locations_df.iloc[i-1,1], locations_df.iloc[j-1,1]]\n",
    "                ax.plot(x_line, y_line, color = \"red\", linewidth=2)\n",
    "    fig.savefig(f\"iteration_{iteration}.jpg\", dpi=100)\n",
    "    fig.clear()\n",
    "        \n",
    "    # Re evaluate cycle\n",
    "    cycle = get_list_cycle(model)"
   ]
  },
  {
   "cell_type": "code",
   "execution_count": 11,
   "metadata": {},
   "outputs": [
    {
     "name": "stdout",
     "output_type": "stream",
     "text": [
      "Number of restricted subset: 5 subsets\n"
     ]
    },
    {
     "data": {
      "image/png": "[encoded data removed]",
      "text/plain": [
       "<Figure size 1008x432 with 1 Axes>"
      ]
     },
     "metadata": {
      "needs_background": "light"
     },
     "output_type": "display_data"
    }
   ],
   "source": [
    "subset_length = list(range(1, n))\n",
    "total_subset = []\n",
    "print(f\"Number of restricted subset: {len(subset_constraints)} subsets\")\n",
    "for i in range(1, n):\n",
    "    total_subset.append(len([subset for subset in subset_constraints if len(subset) == i]))\n",
    "data = pd.DataFrame({\"total_subset\":total_subset}, index=subset_length)\n",
    "fig, ax = plt.subplots(1, 1, figsize = (14, 6))\n",
    "ax = sns.barplot(data.index, data[\"total_subset\"])"
   ]
  },
  {
   "cell_type": "code",
   "execution_count": 12,
   "metadata": {},
   "outputs": [
    {
     "data": {
      "image/png": "[encoded data removed]",
      "text/plain": [
       "<Figure size 864x720 with 2 Axes>"
      ]
     },
     "metadata": {
      "needs_background": "light"
     },
     "output_type": "display_data"
    }
   ],
   "source": [
    "df = results_to_df(model, n)\n",
    "fig, ax = plt.subplots(1, 1, figsize=(12, 10))\n",
    "ax = sns.heatmap(df)\n",
    "ax.xaxis.set_ticks_position('top')\n",
    "_ = ax.set_title(\"Decision Variables\")"
   ]
  },
  {
   "cell_type": "code",
   "execution_count": 13,
   "metadata": {},
   "outputs": [
    {
     "data": {
      "image/png": "[encoded data removed]",
      "text/plain": [
       "<Figure size 720x504 with 1 Axes>"
      ]
     },
     "metadata": {
      "needs_background": "light"
     },
     "output_type": "display_data"
    }
   ],
   "source": [
    "locations_df = pd.DataFrame(locations, columns=[\"x\", \"y\"])\n",
    "\n",
    "fig, ax = plt.subplots(1, 1, figsize = (10, 7))\n",
    "ax = sns.scatterplot(locations_df[\"x\"], locations_df[\"y\"], s = 100)\n",
    "\n",
    "# add arcs\n",
    "for i in model.i:\n",
    "    for j in model.i:\n",
    "        if model.SELECT[i, j].value == 1:\n",
    "            x_line = [locations_df.iloc[i-1,0], locations_df.iloc[j-1,0]]\n",
    "            y_line = [locations_df.iloc[i-1,1], locations_df.iloc[j-1,1]]\n",
    "            ax.plot(x_line, y_line, color = \"red\", linewidth=2)"
   ]
  }
 ],
 "metadata": {
  "kernelspec": {
   "display_name": "Python 3",
   "language": "python",
   "name": "python3"
  },
  "language_info": {
   "codemirror_mode": {
    "name": "ipython",
    "version": 3
   },
   "file_extension": ".py",
   "mimetype": "text/x-python",
   "name": "python",
   "nbconvert_exporter": "python",
   "pygments_lexer": "ipython3",
   "version": "3.8.5"
  }
 },
 "nbformat": 4,
 "nbformat_minor": 4
}
